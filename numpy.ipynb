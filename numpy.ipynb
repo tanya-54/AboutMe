{
 "cells": [
  {
   "cell_type": "markdown",
   "id": "488acd1a-b754-42cb-a50e-103171e69d15",
   "metadata": {},
   "source": [
    "# welcome "
   ]
  },
  {
   "cell_type": "code",
   "execution_count": 1,
   "id": "120609d1-3661-476f-a943-2ec92dd71b48",
   "metadata": {},
   "outputs": [],
   "source": [
    "import numpy as np"
   ]
  },
  {
   "cell_type": "code",
   "execution_count": 2,
   "id": "28311eda-11a0-4995-bd55-223147c3a145",
   "metadata": {},
   "outputs": [
    {
     "name": "stdout",
     "output_type": "stream",
     "text": [
      "Hello World\n"
     ]
    }
   ],
   "source": [
    "print(\"Hello World\")"
   ]
  },
  {
   "cell_type": "code",
   "execution_count": 3,
   "id": "3c8e96c0-8db6-4127-a4bf-be8ef86ac4dc",
   "metadata": {},
   "outputs": [],
   "source": [
    "myarr = np.array([[3,4,9,8,7,6,5,4,4,]])"
   ]
  },
  {
   "cell_type": "code",
   "execution_count": 4,
   "id": "a84ec1b4-4ab2-4284-b16d-895a666d42aa",
   "metadata": {},
   "outputs": [
    {
     "data": {
      "text/plain": [
       "array([[3, 4, 9, 8, 7, 6, 5, 4, 4]])"
      ]
     },
     "execution_count": 4,
     "metadata": {},
     "output_type": "execute_result"
    }
   ],
   "source": [
    "myarr"
   ]
  },
  {
   "cell_type": "code",
   "execution_count": 5,
   "id": "2d1c9bd9-ab5a-4db4-8215-ccc53fa924ea",
   "metadata": {},
   "outputs": [
    {
     "data": {
      "text/plain": [
       "array([3, 4, 9, 8, 7, 6, 5, 4, 4])"
      ]
     },
     "execution_count": 5,
     "metadata": {},
     "output_type": "execute_result"
    }
   ],
   "source": [
    "myarr[0]"
   ]
  },
  {
   "cell_type": "code",
   "execution_count": 6,
   "id": "d4e77182-b6d4-4a88-be8f-7ca46bc35b60",
   "metadata": {},
   "outputs": [
    {
     "data": {
      "text/plain": [
       "7"
      ]
     },
     "execution_count": 6,
     "metadata": {},
     "output_type": "execute_result"
    }
   ],
   "source": [
    "myarr[0,4]"
   ]
  },
  {
   "cell_type": "code",
   "execution_count": 7,
   "id": "66c2e8b0-6ce2-431d-a1f4-cc6a6c36db6d",
   "metadata": {},
   "outputs": [
    {
     "data": {
      "text/plain": [
       "(1, 9)"
      ]
     },
     "execution_count": 7,
     "metadata": {},
     "output_type": "execute_result"
    }
   ],
   "source": [
    "myarr.shape"
   ]
  },
  {
   "cell_type": "code",
   "execution_count": 8,
   "id": "19b62b7f-151e-472c-8b9d-65e37b67302d",
   "metadata": {},
   "outputs": [
    {
     "data": {
      "text/plain": [
       "dtype('int32')"
      ]
     },
     "execution_count": 8,
     "metadata": {},
     "output_type": "execute_result"
    }
   ],
   "source": [
    "myarr.dtype"
   ]
  },
  {
   "cell_type": "markdown",
   "id": "db4f03d3-da37-414f-abb9-1e35acae0b12",
   "metadata": {},
   "source": [
    " # array creation : conversion from other datastructures\n",
    " "
   ]
  },
  {
   "cell_type": "markdown",
   "id": "606068c7-6015-4300-b02a-a96a0dd0ce36",
   "metadata": {},
   "source": [
    "# hello "
   ]
  },
  {
   "cell_type": "code",
   "execution_count": 9,
   "id": "77d05439-4a78-4d7b-8101-46c1a26634ad",
   "metadata": {},
   "outputs": [],
   "source": [
    "listarray = np.array([[1,2,3],[4,4,5],[7,8,9]])"
   ]
  },
  {
   "cell_type": "code",
   "execution_count": 10,
   "id": "2acc971b-91ea-4531-ae56-b01888a8d5a9",
   "metadata": {},
   "outputs": [
    {
     "data": {
      "text/plain": [
       "array([[1, 2, 3],\n",
       "       [4, 4, 5],\n",
       "       [7, 8, 9]])"
      ]
     },
     "execution_count": 10,
     "metadata": {},
     "output_type": "execute_result"
    }
   ],
   "source": [
    "listarray"
   ]
  },
  {
   "cell_type": "code",
   "execution_count": 11,
   "id": "19e41209-8b90-4f2e-9a68-2a27cec6a014",
   "metadata": {},
   "outputs": [
    {
     "data": {
      "text/plain": [
       "dtype('int32')"
      ]
     },
     "execution_count": 11,
     "metadata": {},
     "output_type": "execute_result"
    }
   ],
   "source": [
    "listarray.dtype"
   ]
  },
  {
   "cell_type": "code",
   "execution_count": 12,
   "id": "618f47f1-cbd2-4a95-9b48-9829fa3e2220",
   "metadata": {},
   "outputs": [
    {
     "data": {
      "text/plain": [
       "(3, 3)"
      ]
     },
     "execution_count": 12,
     "metadata": {},
     "output_type": "execute_result"
    }
   ],
   "source": [
    "listarray.shape"
   ]
  },
  {
   "cell_type": "code",
   "execution_count": 13,
   "id": "ea79be8b-ef05-43b9-8d0c-ad29a29d3bf5",
   "metadata": {},
   "outputs": [
    {
     "data": {
      "text/plain": [
       "(3, 3)"
      ]
     },
     "execution_count": 13,
     "metadata": {},
     "output_type": "execute_result"
    }
   ],
   "source": [
    "listarray.shape"
   ]
  },
  {
   "cell_type": "code",
   "execution_count": 14,
   "id": "0d083f06-ce9e-4c8b-ac44-3b20fa82fee7",
   "metadata": {},
   "outputs": [
    {
     "data": {
      "text/plain": [
       "9"
      ]
     },
     "execution_count": 14,
     "metadata": {},
     "output_type": "execute_result"
    }
   ],
   "source": [
    "listarray.size"
   ]
  },
  {
   "cell_type": "code",
   "execution_count": 15,
   "id": "e322c825-5ada-4523-9b74-ead80e11192f",
   "metadata": {},
   "outputs": [],
   "source": [
    "zeroes = np.zeros((2,4))"
   ]
  },
  {
   "cell_type": "code",
   "execution_count": 16,
   "id": "8df5df87-24aa-49ad-b161-2311ce1cb48c",
   "metadata": {},
   "outputs": [
    {
     "data": {
      "text/plain": [
       "array([[0., 0., 0., 0.],\n",
       "       [0., 0., 0., 0.]])"
      ]
     },
     "execution_count": 16,
     "metadata": {},
     "output_type": "execute_result"
    }
   ],
   "source": [
    "zeroes"
   ]
  },
  {
   "cell_type": "code",
   "execution_count": 17,
   "id": "1e872e4b-2aff-4830-955c-3dd1958c2a6f",
   "metadata": {},
   "outputs": [],
   "source": [
    "range_function = np.arange(10)"
   ]
  },
  {
   "cell_type": "code",
   "execution_count": 18,
   "id": "46cb5f42-ee11-42f6-a2e9-eb5e0617f432",
   "metadata": {},
   "outputs": [
    {
     "data": {
      "text/plain": [
       "array([0, 1, 2, 3, 4, 5, 6, 7, 8, 9])"
      ]
     },
     "execution_count": 18,
     "metadata": {},
     "output_type": "execute_result"
    }
   ],
   "source": [
    "range_function"
   ]
  },
  {
   "cell_type": "code",
   "execution_count": 19,
   "id": "e62e17b5-c074-48b1-8d13-95f0d95debba",
   "metadata": {},
   "outputs": [],
   "source": [
    "linspace = np.linspace(1,2,5)"
   ]
  },
  {
   "cell_type": "code",
   "execution_count": 20,
   "id": "cb5ca376-3f9e-4fca-86fe-2fa98dd4cce4",
   "metadata": {},
   "outputs": [
    {
     "data": {
      "text/plain": [
       "array([1.  , 1.25, 1.5 , 1.75, 2.  ])"
      ]
     },
     "execution_count": 20,
     "metadata": {},
     "output_type": "execute_result"
    }
   ],
   "source": [
    "linspace"
   ]
  },
  {
   "cell_type": "code",
   "execution_count": 21,
   "id": "e0ad77d0-e179-4c71-b827-8acd0e51bb5f",
   "metadata": {},
   "outputs": [],
   "source": [
    "empty = np.empty((4,5))"
   ]
  },
  {
   "cell_type": "code",
   "execution_count": 22,
   "id": "9e6da93c-c401-4fa8-80a6-204d61e7df48",
   "metadata": {},
   "outputs": [
    {
     "data": {
      "text/plain": [
       "array([[8.48798316e-314, 1.14223857e-311, 0.00000000e+000,\n",
       "        0.00000000e+000, 0.00000000e+000],\n",
       "       [1.14223857e-311, 0.00000000e+000, 0.00000000e+000,\n",
       "        0.00000000e+000, 3.94004319e+180],\n",
       "       [1.65081059e-086, 1.62672658e-086, 1.62672658e-086,\n",
       "        3.00947434e-067, 5.60235584e-067],\n",
       "       [5.98131470e-154, 6.52016598e+252, 4.83781471e+276,\n",
       "        1.62672658e-086, 1.62672658e-086]])"
      ]
     },
     "execution_count": 22,
     "metadata": {},
     "output_type": "execute_result"
    }
   ],
   "source": [
    "empty"
   ]
  },
  {
   "cell_type": "code",
   "execution_count": 23,
   "id": "b7b45f54-f637-4718-b5f4-021428f3a73f",
   "metadata": {},
   "outputs": [],
   "source": [
    "empty_like = np.empty_like(linspace)"
   ]
  },
  {
   "cell_type": "code",
   "execution_count": 24,
   "id": "11884da1-a319-4af5-aff4-6e5e8a2f670e",
   "metadata": {},
   "outputs": [
    {
     "data": {
      "text/plain": [
       "array([1.  , 1.25, 1.5 , 1.75, 2.  ])"
      ]
     },
     "execution_count": 24,
     "metadata": {},
     "output_type": "execute_result"
    }
   ],
   "source": [
    "empty_like "
   ]
  },
  {
   "cell_type": "code",
   "execution_count": 25,
   "id": "22720c3f-8b35-4bc4-9248-d5f55086b2f2",
   "metadata": {},
   "outputs": [],
   "source": [
    "ide = np.identity(45)"
   ]
  },
  {
   "cell_type": "code",
   "execution_count": 26,
   "id": "6bb8089c-03ac-49a5-b7e3-6e18353be650",
   "metadata": {},
   "outputs": [
    {
     "data": {
      "text/plain": [
       "array([[1., 0., 0., ..., 0., 0., 0.],\n",
       "       [0., 1., 0., ..., 0., 0., 0.],\n",
       "       [0., 0., 1., ..., 0., 0., 0.],\n",
       "       ...,\n",
       "       [0., 0., 0., ..., 1., 0., 0.],\n",
       "       [0., 0., 0., ..., 0., 1., 0.],\n",
       "       [0., 0., 0., ..., 0., 0., 1.]])"
      ]
     },
     "execution_count": 26,
     "metadata": {},
     "output_type": "execute_result"
    }
   ],
   "source": [
    "ide"
   ]
  },
  {
   "cell_type": "code",
   "execution_count": 27,
   "id": "234bc8a5-90ee-470a-bea4-ceba5bb422a4",
   "metadata": {},
   "outputs": [
    {
     "data": {
      "text/plain": [
       "(45, 45)"
      ]
     },
     "execution_count": 27,
     "metadata": {},
     "output_type": "execute_result"
    }
   ],
   "source": [
    "ide.shape"
   ]
  },
  {
   "cell_type": "code",
   "execution_count": 28,
   "id": "bad18e57-94d4-4f07-9a0a-4358ac351ea6",
   "metadata": {},
   "outputs": [],
   "source": [
    "arr = np.arange(99)"
   ]
  },
  {
   "cell_type": "code",
   "execution_count": 29,
   "id": "ede28d17-10ca-43b0-af85-27aacb8733d8",
   "metadata": {},
   "outputs": [
    {
     "data": {
      "text/plain": [
       "array([ 0,  1,  2,  3,  4,  5,  6,  7,  8,  9, 10, 11, 12, 13, 14, 15, 16,\n",
       "       17, 18, 19, 20, 21, 22, 23, 24, 25, 26, 27, 28, 29, 30, 31, 32, 33,\n",
       "       34, 35, 36, 37, 38, 39, 40, 41, 42, 43, 44, 45, 46, 47, 48, 49, 50,\n",
       "       51, 52, 53, 54, 55, 56, 57, 58, 59, 60, 61, 62, 63, 64, 65, 66, 67,\n",
       "       68, 69, 70, 71, 72, 73, 74, 75, 76, 77, 78, 79, 80, 81, 82, 83, 84,\n",
       "       85, 86, 87, 88, 89, 90, 91, 92, 93, 94, 95, 96, 97, 98])"
      ]
     },
     "execution_count": 29,
     "metadata": {},
     "output_type": "execute_result"
    }
   ],
   "source": [
    "arr"
   ]
  },
  {
   "cell_type": "code",
   "execution_count": 30,
   "id": "3ddbcc2b-4ab7-40cf-8fe2-e783b0baf178",
   "metadata": {},
   "outputs": [],
   "source": [
    "arr = arr.reshape(3,33)"
   ]
  },
  {
   "cell_type": "code",
   "execution_count": 31,
   "id": "ae86c9a4-9d0e-49ca-b2b6-c03a6426ed33",
   "metadata": {},
   "outputs": [
    {
     "data": {
      "text/plain": [
       "array([[ 0,  1,  2,  3,  4,  5,  6,  7,  8,  9, 10, 11, 12, 13, 14, 15,\n",
       "        16, 17, 18, 19, 20, 21, 22, 23, 24, 25, 26, 27, 28, 29, 30, 31,\n",
       "        32],\n",
       "       [33, 34, 35, 36, 37, 38, 39, 40, 41, 42, 43, 44, 45, 46, 47, 48,\n",
       "        49, 50, 51, 52, 53, 54, 55, 56, 57, 58, 59, 60, 61, 62, 63, 64,\n",
       "        65],\n",
       "       [66, 67, 68, 69, 70, 71, 72, 73, 74, 75, 76, 77, 78, 79, 80, 81,\n",
       "        82, 83, 84, 85, 86, 87, 88, 89, 90, 91, 92, 93, 94, 95, 96, 97,\n",
       "        98]])"
      ]
     },
     "execution_count": 31,
     "metadata": {},
     "output_type": "execute_result"
    }
   ],
   "source": [
    "arr"
   ]
  },
  {
   "cell_type": "code",
   "execution_count": 32,
   "id": "fed223d7-d2e9-4886-ab19-b9322890f98e",
   "metadata": {},
   "outputs": [],
   "source": [
    "arr = arr.ravel()"
   ]
  },
  {
   "cell_type": "code",
   "execution_count": 33,
   "id": "50743c0c-7bc3-4117-a834-8691a6ff16fc",
   "metadata": {},
   "outputs": [
    {
     "data": {
      "text/plain": [
       "(99,)"
      ]
     },
     "execution_count": 33,
     "metadata": {},
     "output_type": "execute_result"
    }
   ],
   "source": [
    "arr.shape"
   ]
  },
  {
   "cell_type": "code",
   "execution_count": 34,
   "id": "e414f173-a34c-4d88-9b2a-b95496cf4bc2",
   "metadata": {},
   "outputs": [],
   "source": [
    "x = [[1,2,3,3],[3,4,5,6,],[5,6,7,7]]"
   ]
  },
  {
   "cell_type": "code",
   "execution_count": 35,
   "id": "53b888b3-0f61-4f1f-90a7-ef5560dccd7b",
   "metadata": {},
   "outputs": [],
   "source": [
    "ar = np.array(x)"
   ]
  },
  {
   "cell_type": "code",
   "execution_count": 36,
   "id": "1041a0cb-a900-4af7-a493-b4aa6d8acb6a",
   "metadata": {},
   "outputs": [
    {
     "data": {
      "text/plain": [
       "array([[1, 2, 3, 3],\n",
       "       [3, 4, 5, 6],\n",
       "       [5, 6, 7, 7]])"
      ]
     },
     "execution_count": 36,
     "metadata": {},
     "output_type": "execute_result"
    }
   ],
   "source": [
    "ar"
   ]
  },
  {
   "cell_type": "code",
   "execution_count": 37,
   "id": "a71b0a47-d23f-431a-a281-05fed4256628",
   "metadata": {},
   "outputs": [
    {
     "data": {
      "text/plain": [
       "array([ 9, 12, 15, 16])"
      ]
     },
     "execution_count": 37,
     "metadata": {},
     "output_type": "execute_result"
    }
   ],
   "source": [
    "ar.sum(axis=0)"
   ]
  },
  {
   "cell_type": "code",
   "execution_count": 38,
   "id": "4731bd7c-b792-4cea-ae45-4a5b953825c4",
   "metadata": {},
   "outputs": [
    {
     "data": {
      "text/plain": [
       "array([ 9, 18, 25])"
      ]
     },
     "execution_count": 38,
     "metadata": {},
     "output_type": "execute_result"
    }
   ],
   "source": [
    "ar.sum(axis=1)"
   ]
  },
  {
   "cell_type": "code",
   "execution_count": 39,
   "id": "b82a1414-6c19-4a6b-8991-4241519c1634",
   "metadata": {},
   "outputs": [],
   "source": [
    "ar=ar.T"
   ]
  },
  {
   "cell_type": "code",
   "execution_count": 40,
   "id": "11f8c605-b1e6-4eba-9bcb-02a2e9e35d64",
   "metadata": {},
   "outputs": [
    {
     "data": {
      "text/plain": [
       "array([[1, 3, 5],\n",
       "       [2, 4, 6],\n",
       "       [3, 5, 7],\n",
       "       [3, 6, 7]])"
      ]
     },
     "execution_count": 40,
     "metadata": {},
     "output_type": "execute_result"
    }
   ],
   "source": [
    "ar"
   ]
  },
  {
   "cell_type": "code",
   "execution_count": 41,
   "id": "be2a1442-6895-488c-a884-684870b83ef7",
   "metadata": {},
   "outputs": [
    {
     "data": {
      "text/plain": [
       "<numpy.flatiter at 0x21a4d198690>"
      ]
     },
     "execution_count": 41,
     "metadata": {},
     "output_type": "execute_result"
    }
   ],
   "source": [
    "ar.flat"
   ]
  },
  {
   "cell_type": "code",
   "execution_count": 42,
   "id": "b48485b3-c809-49dd-829b-806ef653cca4",
   "metadata": {},
   "outputs": [
    {
     "name": "stdout",
     "output_type": "stream",
     "text": [
      "1\n",
      "3\n",
      "5\n",
      "2\n",
      "4\n",
      "6\n",
      "3\n",
      "5\n",
      "7\n",
      "3\n",
      "6\n",
      "7\n"
     ]
    }
   ],
   "source": [
    "for item in ar.flat:\n",
    "    print(item)"
   ]
  },
  {
   "cell_type": "code",
   "execution_count": 43,
   "id": "50307764-feec-48ef-99fe-92339bc0fbd6",
   "metadata": {},
   "outputs": [
    {
     "data": {
      "text/plain": [
       "2"
      ]
     },
     "execution_count": 43,
     "metadata": {},
     "output_type": "execute_result"
    }
   ],
   "source": [
    "ar.ndim"
   ]
  },
  {
   "cell_type": "code",
   "execution_count": 44,
   "id": "3c8bd777-db83-4e58-beab-ea0708ded2ef",
   "metadata": {},
   "outputs": [
    {
     "data": {
      "text/plain": [
       "12"
      ]
     },
     "execution_count": 44,
     "metadata": {},
     "output_type": "execute_result"
    }
   ],
   "source": [
    "ar.size"
   ]
  },
  {
   "cell_type": "code",
   "execution_count": 45,
   "id": "20175865-60f3-4e8d-aa13-09bf7a5de0cf",
   "metadata": {},
   "outputs": [
    {
     "data": {
      "text/plain": [
       "48"
      ]
     },
     "execution_count": 45,
     "metadata": {},
     "output_type": "execute_result"
    }
   ],
   "source": [
    "ar.nbytes"
   ]
  },
  {
   "cell_type": "code",
   "execution_count": 46,
   "id": "0980028d-a683-4382-ac9c-1ce05d7b54ed",
   "metadata": {},
   "outputs": [],
   "source": [
    "one = np.array([1,4,5,6677,8,999999,0])"
   ]
  },
  {
   "cell_type": "code",
   "execution_count": 47,
   "id": "070d1fb3-993c-4913-b071-edee3ebf83f6",
   "metadata": {},
   "outputs": [
    {
     "data": {
      "text/plain": [
       "5"
      ]
     },
     "execution_count": 47,
     "metadata": {},
     "output_type": "execute_result"
    }
   ],
   "source": [
    "one.argmax()"
   ]
  },
  {
   "cell_type": "code",
   "execution_count": 48,
   "id": "eb79d112-e4a7-41bc-8222-55374ebe0040",
   "metadata": {},
   "outputs": [
    {
     "data": {
      "text/plain": [
       "6"
      ]
     },
     "execution_count": 48,
     "metadata": {},
     "output_type": "execute_result"
    }
   ],
   "source": [
    "one.argmin()"
   ]
  },
  {
   "cell_type": "code",
   "execution_count": 49,
   "id": "3501d0ca-539a-4465-8f01-96da7ebee978",
   "metadata": {},
   "outputs": [
    {
     "data": {
      "text/plain": [
       "array([6, 0, 1, 2, 4, 3, 5], dtype=int64)"
      ]
     },
     "execution_count": 49,
     "metadata": {},
     "output_type": "execute_result"
    }
   ],
   "source": [
    "one.argsort()"
   ]
  },
  {
   "cell_type": "code",
   "execution_count": 50,
   "id": "ebcdd36b-9968-4364-be1b-71241fb6f24c",
   "metadata": {},
   "outputs": [
    {
     "data": {
      "text/plain": [
       "0"
      ]
     },
     "execution_count": 50,
     "metadata": {},
     "output_type": "execute_result"
    }
   ],
   "source": [
    "ar.argmin()"
   ]
  },
  {
   "cell_type": "code",
   "execution_count": 51,
   "id": "07fd4847-c831-441d-bd39-a075ff058432",
   "metadata": {},
   "outputs": [
    {
     "data": {
      "text/plain": [
       "array([[1, 3, 5],\n",
       "       [2, 4, 6],\n",
       "       [3, 5, 7],\n",
       "       [3, 6, 7]])"
      ]
     },
     "execution_count": 51,
     "metadata": {},
     "output_type": "execute_result"
    }
   ],
   "source": [
    "ar"
   ]
  },
  {
   "cell_type": "code",
   "execution_count": 52,
   "id": "41ed73b0-a1cd-43a2-a656-e226a10d7457",
   "metadata": {},
   "outputs": [
    {
     "data": {
      "text/plain": [
       "0"
      ]
     },
     "execution_count": 52,
     "metadata": {},
     "output_type": "execute_result"
    }
   ],
   "source": [
    "ar.argmin()"
   ]
  },
  {
   "cell_type": "code",
   "execution_count": 53,
   "id": "16d9055b-415e-43d9-9168-79ce8447c4d7",
   "metadata": {},
   "outputs": [
    {
     "data": {
      "text/plain": [
       "8"
      ]
     },
     "execution_count": 53,
     "metadata": {},
     "output_type": "execute_result"
    }
   ],
   "source": [
    "ar.argmax()"
   ]
  },
  {
   "cell_type": "code",
   "execution_count": 54,
   "id": "21b2dd02-8620-42f3-8dec-24636f81cfcd",
   "metadata": {},
   "outputs": [
    {
     "data": {
      "text/plain": [
       "array([2, 3, 2], dtype=int64)"
      ]
     },
     "execution_count": 54,
     "metadata": {},
     "output_type": "execute_result"
    }
   ],
   "source": [
    "ar.argmax(axis=0)"
   ]
  },
  {
   "cell_type": "code",
   "execution_count": 55,
   "id": "d0ab8700-7b86-4f3f-b0b9-4d73652cd101",
   "metadata": {},
   "outputs": [
    {
     "data": {
      "text/plain": [
       "array([[0, 1, 2],\n",
       "       [0, 1, 2],\n",
       "       [0, 1, 2],\n",
       "       [0, 1, 2]], dtype=int64)"
      ]
     },
     "execution_count": 55,
     "metadata": {},
     "output_type": "execute_result"
    }
   ],
   "source": [
    "ar.argsort()"
   ]
  },
  {
   "cell_type": "code",
   "execution_count": 56,
   "id": "6ac8cae3-f067-4073-b0b1-136c56a1ce45",
   "metadata": {},
   "outputs": [
    {
     "data": {
      "text/plain": [
       "array([[0, 1, 2],\n",
       "       [0, 1, 2],\n",
       "       [0, 1, 2],\n",
       "       [0, 1, 2]], dtype=int64)"
      ]
     },
     "execution_count": 56,
     "metadata": {},
     "output_type": "execute_result"
    }
   ],
   "source": [
    "ar.argsort(axis=1)"
   ]
  },
  {
   "cell_type": "code",
   "execution_count": 57,
   "id": "7784c56c-7d9c-4077-8042-c01f6cb1e078",
   "metadata": {},
   "outputs": [
    {
     "data": {
      "text/plain": [
       "array([[0, 0, 0],\n",
       "       [1, 1, 1],\n",
       "       [2, 2, 2],\n",
       "       [3, 3, 3]], dtype=int64)"
      ]
     },
     "execution_count": 57,
     "metadata": {},
     "output_type": "execute_result"
    }
   ],
   "source": [
    "ar.argsort(axis=0)"
   ]
  },
  {
   "cell_type": "code",
   "execution_count": 58,
   "id": "72a74556-95d4-4e00-96c1-67426c625db0",
   "metadata": {},
   "outputs": [],
   "source": [
    "ar2 = np.array([[1,3,4],[2,3,4],[1,2,34],[2,3,4]])"
   ]
  },
  {
   "cell_type": "code",
   "execution_count": 59,
   "id": "5b896ee9-c034-4b59-8ed7-30d8ebb48f1d",
   "metadata": {},
   "outputs": [
    {
     "data": {
      "text/plain": [
       "array([[  1,   9,  20],\n",
       "       [  4,  12,  24],\n",
       "       [  3,  10, 238],\n",
       "       [  6,  18,  28]])"
      ]
     },
     "execution_count": 59,
     "metadata": {},
     "output_type": "execute_result"
    }
   ],
   "source": [
    "ar*ar2"
   ]
  },
  {
   "cell_type": "code",
   "execution_count": 60,
   "id": "ebadd5a8-68b6-4e5c-ac0f-b36a6d822b18",
   "metadata": {},
   "outputs": [
    {
     "data": {
      "text/plain": [
       "array([[1.        , 1.73205081, 2.23606798],\n",
       "       [1.41421356, 2.        , 2.44948974],\n",
       "       [1.73205081, 2.23606798, 2.64575131],\n",
       "       [1.73205081, 2.44948974, 2.64575131]])"
      ]
     },
     "execution_count": 60,
     "metadata": {},
     "output_type": "execute_result"
    }
   ],
   "source": [
    "np.sqrt(ar)"
   ]
  },
  {
   "cell_type": "code",
   "execution_count": 61,
   "id": "4df1423b-40ac-4e33-b719-9a3a2f7193cb",
   "metadata": {},
   "outputs": [
    {
     "data": {
      "text/plain": [
       "52"
      ]
     },
     "execution_count": 61,
     "metadata": {},
     "output_type": "execute_result"
    }
   ],
   "source": [
    "ar.sum()"
   ]
  },
  {
   "cell_type": "code",
   "execution_count": 62,
   "id": "23a59ee1-bee2-46c1-b0c4-913d9c5354e4",
   "metadata": {},
   "outputs": [
    {
     "data": {
      "text/plain": [
       "7"
      ]
     },
     "execution_count": 62,
     "metadata": {},
     "output_type": "execute_result"
    }
   ],
   "source": [
    "ar.max()"
   ]
  },
  {
   "cell_type": "code",
   "execution_count": 63,
   "id": "d4986f78-e297-437f-b555-9bd86e7a1de3",
   "metadata": {},
   "outputs": [
    {
     "data": {
      "text/plain": [
       "(array([1, 2, 3, 3], dtype=int64), array([2, 2, 1, 2], dtype=int64))"
      ]
     },
     "execution_count": 63,
     "metadata": {},
     "output_type": "execute_result"
    }
   ],
   "source": [
    "np.where(ar>5)"
   ]
  },
  {
   "cell_type": "code",
   "execution_count": 64,
   "id": "baf273c0-d6a2-4d88-8d11-3c0f92f62c36",
   "metadata": {},
   "outputs": [
    {
     "data": {
      "text/plain": [
       "12"
      ]
     },
     "execution_count": 64,
     "metadata": {},
     "output_type": "execute_result"
    }
   ],
   "source": [
    "np.count_nonzero(ar)"
   ]
  },
  {
   "cell_type": "code",
   "execution_count": 65,
   "id": "2e7890f0-c25c-4d37-9160-10a8a09184a7",
   "metadata": {},
   "outputs": [
    {
     "data": {
      "text/plain": [
       "(array([0, 0, 0, 1, 1, 1, 2, 2, 2, 3, 3, 3], dtype=int64),\n",
       " array([0, 1, 2, 0, 1, 2, 0, 1, 2, 0, 1, 2], dtype=int64))"
      ]
     },
     "execution_count": 65,
     "metadata": {},
     "output_type": "execute_result"
    }
   ],
   "source": [
    "np.nonzero(ar)"
   ]
  },
  {
   "cell_type": "code",
   "execution_count": 66,
   "id": "9e31755a-8cc8-4878-92fc-187b3a1eb715",
   "metadata": {},
   "outputs": [],
   "source": [
    "ar[1,2] = 0"
   ]
  },
  {
   "cell_type": "code",
   "execution_count": 67,
   "id": "1fdb2ed3-5320-49eb-9fcd-a153f4477ed9",
   "metadata": {},
   "outputs": [
    {
     "data": {
      "text/plain": [
       "(array([0, 0, 0, 1, 1, 2, 2, 2, 3, 3, 3], dtype=int64),\n",
       " array([0, 1, 2, 0, 1, 0, 1, 2, 0, 1, 2], dtype=int64))"
      ]
     },
     "execution_count": 67,
     "metadata": {},
     "output_type": "execute_result"
    }
   ],
   "source": [
    "np.nonzero(ar)"
   ]
  },
  {
   "cell_type": "code",
   "execution_count": 68,
   "id": "394ab980-6660-4d93-96c2-3f3e5b330822",
   "metadata": {},
   "outputs": [],
   "source": [
    "import sys"
   ]
  },
  {
   "cell_type": "code",
   "execution_count": 71,
   "id": "a79d3552-85ea-4eae-8bdc-f4fa219d3d34",
   "metadata": {},
   "outputs": [],
   "source": [
    "py_ar =[0,4,6,5]"
   ]
  },
  {
   "cell_type": "code",
   "execution_count": 72,
   "id": "883bf2ef-832c-4423-a684-3a0bfd695153",
   "metadata": {},
   "outputs": [],
   "source": [
    "np_ar = np.array(py_ar)"
   ]
  },
  {
   "cell_type": "code",
   "execution_count": 74,
   "id": "2a37915c-4c2b-4735-95d2-ca547cd55945",
   "metadata": {},
   "outputs": [
    {
     "data": {
      "text/plain": [
       "112"
      ]
     },
     "execution_count": 74,
     "metadata": {},
     "output_type": "execute_result"
    }
   ],
   "source": [
    "sys.getsizeof(1)*len(py_ar)"
   ]
  },
  {
   "cell_type": "code",
   "execution_count": null,
   "id": "210af312-b879-49a5-8816-352a7ff394e2",
   "metadata": {},
   "outputs": [],
   "source": []
  }
 ],
 "metadata": {
  "kernelspec": {
   "display_name": "Python 3 (ipykernel)",
   "language": "python",
   "name": "python3"
  },
  "language_info": {
   "codemirror_mode": {
    "name": "ipython",
    "version": 3
   },
   "file_extension": ".py",
   "mimetype": "text/x-python",
   "name": "python",
   "nbconvert_exporter": "python",
   "pygments_lexer": "ipython3",
   "version": "3.12.0"
  }
 },
 "nbformat": 4,
 "nbformat_minor": 5
}
